{
  "nbformat": 4,
  "nbformat_minor": 0,
  "metadata": {
    "colab": {
      "provenance": [],
      "mount_file_id": "1-7Xo_3SkICZ3B8J2Jqv5-Y_RdlEFIWjX",
      "authorship_tag": "ABX9TyOmUUewicV7HpufoGXaaQ8P",
      "include_colab_link": true
    },
    "kernelspec": {
      "name": "python3",
      "display_name": "Python 3"
    },
    "language_info": {
      "name": "python"
    }
  },
  "cells": [
    {
      "cell_type": "markdown",
      "metadata": {
        "id": "view-in-github",
        "colab_type": "text"
      },
      "source": [
        "<a href=\"https://colab.research.google.com/github/urosgodnov/osnovePodatkovneAnalitike/blob/main/osnove_podatkovne_analitike.ipynb\" target=\"_parent\"><img src=\"https://colab.research.google.com/assets/colab-badge.svg\" alt=\"Open In Colab\"/></a>"
      ]
    },
    {
      "cell_type": "code",
      "execution_count": null,
      "metadata": {
        "id": "IT6vDFfw_zR3"
      },
      "outputs": [],
      "source": [
        "print(\"Hello!\")"
      ]
    }
  ]
}