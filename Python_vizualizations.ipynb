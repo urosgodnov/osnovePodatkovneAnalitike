{
  "nbformat": 4,
  "nbformat_minor": 0,
  "metadata": {
    "colab": {
      "provenance": [],
      "toc_visible": true,
      "authorship_tag": "ABX9TyP0BogPSNLTItdUKLEH1LTq",
      "include_colab_link": true
    },
    "kernelspec": {
      "name": "python3",
      "display_name": "Python 3"
    },
    "language_info": {
      "name": "python"
    }
  },
  "cells": [
    {
      "cell_type": "markdown",
      "metadata": {
        "id": "view-in-github",
        "colab_type": "text"
      },
      "source": [
        "<a href=\"https://colab.research.google.com/github/urosgodnov/Python-Programming-for-Business-Analytics/blob/main/Python_V.ipynb\" target=\"_parent\"><img src=\"https://colab.research.google.com/assets/colab-badge.svg\" alt=\"Open In Colab\"/></a>"
      ]
    },
    {
      "cell_type": "markdown",
      "source": [
        "# Python Programming for Business Analytics - Basics of Python - IV"
      ],
      "metadata": {
        "id": "jd5JkIhbeYA7"
      }
    },
    {
      "cell_type": "code",
      "execution_count": null,
      "metadata": {
        "id": "Yec5ilemeGFq"
      },
      "outputs": [],
      "source": [
        "# Libraries\n",
        "# We'll use matplotlib, seaborn, and plotly to explore data visualization techniques in Python.\n",
        "\n",
        "import matplotlib.pyplot as plt\n",
        "import seaborn as sns\n",
        "import plotly.express as px\n",
        "import pandas as pd\n",
        "import numpy as np"
      ]
    },
    {
      "cell_type": "code",
      "source": [
        "# Example Dataset: Sales Data\n",
        "# We will use synthetic sales data to simulate real-world cases.\n",
        "np.random.seed(42)\n",
        "data = {\n",
        "    \"Date\": pd.date_range(start=\"2024-01-01\", periods=365, freq=\"D\"),\n",
        "    \"Product\": np.random.choice([\"Product A\", \"Product B\", \"Product C\"], 365),\n",
        "    \"Region\": np.random.choice([\"North\", \"South\", \"East\", \"West\"], 365),\n",
        "    \"Sales\": np.random.randint(100, 1000, 365),\n",
        "    \"Profit\": np.random.uniform(10, 500, 365),\n",
        "    \"Units Sold\": np.random.randint(1, 20, 365),\n",
        "}\n",
        "sales_data = pd.DataFrame(data)\n",
        "\n",
        "sales_data.head()"
      ],
      "metadata": {
        "id": "_NwRyfzCejpY"
      },
      "execution_count": null,
      "outputs": []
    },
    {
      "cell_type": "markdown",
      "source": [
        "## Matplotlib"
      ],
      "metadata": {
        "id": "1oo1R4ARe4Rf"
      }
    },
    {
      "cell_type": "markdown",
      "source": [
        " Matplotlib is a foundational library for static, 2D plotting in Python, suitable for creating basic and highly customized plots."
      ],
      "metadata": {
        "id": "J6YPh9gwhlmo"
      }
    },
    {
      "cell_type": "code",
      "source": [
        "# Basic Line Plot (matplotlib)\n",
        "# Explanation:\n",
        "# - `groupby(\"Date\")[\"Sales\"].sum()`: Groups the data by date and calculates total sales for each day.\n",
        "# - `plt.plot`: Plots the grouped data as a line graph.\n",
        "sales_over_time = sales_data.groupby(\"Date\")[\"Sales\"].sum()\n",
        "plt.plot(sales_over_time, label=\"Sales\")\n",
        "plt.title(\"Sales Over Time\")\n",
        "plt.xlabel(\"Date\")\n",
        "plt.ylabel(\"Sales\")\n",
        "plt.legend()\n",
        "plt.grid()\n",
        "plt.show()"
      ],
      "metadata": {
        "id": "gEgbA8dPem-P"
      },
      "execution_count": null,
      "outputs": []
    },
    {
      "cell_type": "code",
      "source": [
        "# Bar Chart (matplotlib)\n",
        "# Explanation: This bar chart compares total sales across different regions, helping identify the most profitable regions.\n",
        "# Key code explanation:\n",
        "# - `groupby(\"Region\")[\"Sales\"].sum()`: Groups data by region and sums up sales.\n",
        "# - `.plot(kind=\"bar\")`: Creates a bar chart of the grouped data.\n",
        "plt.figure(figsize=(10, 6))\n",
        "sales_by_region = sales_data.groupby(\"Region\")[\"Sales\"].sum()\n",
        "sales_by_region.plot(kind=\"bar\", color=\"skyblue\")\n",
        "plt.title(\"Total Sales by Region\")\n",
        "plt.ylabel(\"Total Sales\")\n",
        "plt.show()"
      ],
      "metadata": {
        "id": "SqG4M3tzfXJP"
      },
      "execution_count": null,
      "outputs": []
    },
    {
      "cell_type": "code",
      "source": [
        "# Histogram (matplotlib)\n",
        "# Explanation: This histogram visualizes the distribution of sales, showing the frequency of different sales amounts.\n",
        "# Key code explanation:\n",
        "# - `plt.hist`: Creates a histogram for the sales data.\n",
        "# - `bins=20`: Defines the number of intervals (bins) for the histogram.\n",
        "plt.figure(figsize=(10, 6))\n",
        "plt.hist(sales_data[\"Sales\"], bins=20, color=\"orange\", edgecolor=\"black\")\n",
        "plt.title(\"Distribution of Sales\")\n",
        "plt.xlabel(\"Sales\")\n",
        "plt.ylabel(\"Frequency\")\n",
        "plt.show()"
      ],
      "metadata": {
        "id": "WQoMBVDZfkT2"
      },
      "execution_count": null,
      "outputs": []
    },
    {
      "cell_type": "code",
      "source": [
        "# Scatter Plot (matplotlib)\n",
        "# Explanation: This scatter plot examines the relationship between sales and profit, helping identify trends or outliers.\n",
        "# Key code explanation:\n",
        "# - `plt.scatter`: Creates a scatter plot of sales vs. profit.\n",
        "# - `alpha=0.6`: Adjusts the transparency of the points for better visibility.\n",
        "plt.figure(figsize=(10, 6))\n",
        "plt.scatter(sales_data[\"Sales\"], sales_data[\"Profit\"], alpha=0.6, c=\"green\")\n",
        "plt.title(\"Sales vs Profit\")\n",
        "plt.xlabel(\"Sales\")\n",
        "plt.ylabel(\"Profit\")\n",
        "plt.show()"
      ],
      "metadata": {
        "id": "4irJsYhEfnCJ"
      },
      "execution_count": null,
      "outputs": []
    },
    {
      "cell_type": "markdown",
      "source": [
        "## Seaborn"
      ],
      "metadata": {
        "id": "TA5o8tJofziv"
      }
    },
    {
      "cell_type": "markdown",
      "source": [
        "Seaborn is built on top of Matplotlib and provides a high-level interface for drawing attractive and informative statistical graphics.\n",
        "\n",
        "Seaborn provides several key properties and settings to enhance the appearance and functionality of visualizations:\n",
        "- `style`: Defines the overall aesthetic of the plots (e.g., \"whitegrid\", \"darkgrid\").\n",
        "- `palette`: Controls the color scheme used for categorical data.\n",
        "- `context`: Adjusts the scaling of plot elements (e.g., \"paper\", \"talk\", \"poster\").\n",
        "- `hue`: Differentiates data based on a categorical variable in plots like scatter plots and pair plots.\n",
        "- `annot`: Displays data values on plots like heatmaps and bar plots."
      ],
      "metadata": {
        "id": "CIHglF4vhzfk"
      }
    },
    {
      "cell_type": "code",
      "source": [
        "# Example of Seaborn Properties Usage\n",
        "sns.set_theme(style=\"whitegrid\", palette=\"pastel\", context=\"talk\")\n",
        "\n",
        "# Using Seaborn Properties in Charts\n",
        "# Let's demonstrate the use of all these properties in a single example chart.\n",
        "\n",
        "plt.figure(figsize=(12, 8))\n",
        "sales_by_region_product = sales_data.groupby([\"Region\", \"Product\"])[\"Sales\"].sum().reset_index()\n",
        "ax = sns.barplot(\n",
        "    data=sales_by_region_product,\n",
        "    x=\"Region\",\n",
        "    y=\"Sales\",\n",
        "    hue=\"Product\",\n",
        "    palette=\"pastel\"\n",
        ")\n",
        "# Adding annotations to display values\n",
        "# ax.bar_label(container): Annotates bars in the container with their respective values.\n",
        "# label_type=\"edge\": Positions the labels at the edge of the bars.\n",
        "# fmt=\"%.0f\": Formats the labels as integers.\n",
        "for container in ax.containers:\n",
        "    ax.bar_label(container, fmt=\"%.0f\", label_type=\"edge\", fontsize=10, color=\"black\")\n",
        "\n",
        "plt.title(\"Total Sales by Region and Product\", fontsize=16)\n",
        "plt.xlabel(\"Region\", fontsize=14)\n",
        "plt.ylabel(\"Total Sales\", fontsize=14)\n",
        "plt.xticks(fontsize=12)\n",
        "plt.yticks(fontsize=12)\n",
        "plt.legend(title=\"Product\", fontsize=12)\n",
        "plt.tight_layout()\n",
        "plt.show()"
      ],
      "metadata": {
        "id": "BbVHm51SirQh"
      },
      "execution_count": null,
      "outputs": []
    },
    {
      "cell_type": "code",
      "source": [
        "# Heatmap (seaborn)\n",
        "# Explanation: This heatmap shows the relationship between region and product, displaying sales values in a grid format.\n",
        "# Key code explanation:\n",
        "# - `pivot_table`: Rearranges the data into a matrix format.\n",
        "# - `sns.heatmap`: Plots the matrix as a heatmap.\n",
        "plt.figure(figsize=(10, 6))\n",
        "sales_pivot = sales_data.pivot_table(index=\"Region\", columns=\"Product\", values=\"Sales\", aggfunc=\"sum\")\n",
        "sns.heatmap(sales_pivot, annot=True, fmt=\".0f\", cmap=\"YlGnBu\")\n",
        "plt.title(\"Sales Heatmap by Region and Product\")\n",
        "plt.show()"
      ],
      "metadata": {
        "id": "d3SXxWh3ftnX"
      },
      "execution_count": null,
      "outputs": []
    },
    {
      "cell_type": "code",
      "source": [
        "# Pairplot (seaborn)\n",
        "# Explanation: A pairplot provides a quick way to visualize relationships between multiple variables across regions.\n",
        "# Key code explanation:\n",
        "# - `sns.pairplot`: Generates pairwise scatter plots and histograms for selected variables.\n",
        "# - `hue=\"Region\"`: Differentiates points by region.\n",
        "sns.pairplot(sales_data, vars=[\"Sales\", \"Profit\", \"Units Sold\"], hue=\"Region\", diag_kind=\"kde\")\n",
        "plt.suptitle(\"Pairplot of Key Metrics\", y=1.02)\n",
        "plt.show()"
      ],
      "metadata": {
        "id": "ZXatbcoTgPL8"
      },
      "execution_count": null,
      "outputs": []
    },
    {
      "cell_type": "code",
      "source": [
        "# Boxplot (seaborn)\n",
        "# Explanation: This boxplot summarizes the distribution of profit across regions, highlighting median and outliers.\n",
        "# Key code explanation:\n",
        "# - `sns.boxplot`: Plots the distribution of profit for each region.\n",
        "plt.figure(figsize=(10, 6))\n",
        "sns.boxplot(x=\"Region\", y=\"Profit\", data=sales_data, palette=\"pastel\")\n",
        "plt.title(\"Profit Distribution by Region\")\n",
        "plt.show()"
      ],
      "metadata": {
        "id": "SIWAnKS2gjTF"
      },
      "execution_count": null,
      "outputs": []
    },
    {
      "cell_type": "code",
      "source": [
        "# Violin Plot (seaborn)\n",
        "# Explanation: The violin plot combines boxplot and KDE to show the distribution of sales for each product category.\n",
        "# Key code explanation:\n",
        "# - `sns.violinplot`: Creates a violin plot for sales by product.\n",
        "plt.figure(figsize=(10, 6))\n",
        "sns.violinplot(x=\"Product\", y=\"Sales\", data=sales_data, palette=\"muted\")\n",
        "plt.title(\"Sales Distribution by Product\")\n",
        "plt.show()"
      ],
      "metadata": {
        "id": "g8-Vh8mNgpzD"
      },
      "execution_count": null,
      "outputs": []
    },
    {
      "cell_type": "code",
      "source": [
        "# Adding regression analysis to visualize correlation between Sales and Profit\n",
        "sns.lmplot(data=sales_data, x=\"Sales\", y=\"Profit\", hue=\"Region\", aspect=1.5, height=6)\n",
        "plt.title(\"Regression Analysis: Sales vs Profit\")\n",
        "plt.show()"
      ],
      "metadata": {
        "id": "RBZDP9BQy-Rt"
      },
      "execution_count": null,
      "outputs": []
    },
    {
      "cell_type": "markdown",
      "source": [
        "## Plotly"
      ],
      "metadata": {
        "id": "TRrmle4pgwHQ"
      }
    },
    {
      "cell_type": "markdown",
      "source": [
        "Plotly is a library for creating interactive plots, ideal for exploratory data analysis and presentations."
      ],
      "metadata": {
        "id": "PdVhd6Y8h5yN"
      }
    },
    {
      "cell_type": "code",
      "source": [
        "# Line Plot with Interaction (plotly)\n",
        "# Explanation: This interactive line plot shows daily sales trends, allowing users to hover and explore specific points.\n",
        "# Key code explanation:\n",
        "# - `px.line`: Creates an interactive line plot.\n",
        "# - `reset_index()`: Resets the grouped data to a flat DataFrame for plotting.\n",
        "fig = px.line(sales_data.groupby(\"Date\")[\"Sales\"].sum().reset_index(), x=\"Date\", y=\"Sales\", title=\"Interactive Sales Over Time\")\n",
        "fig.show()"
      ],
      "metadata": {
        "id": "6c-4yiWrguYj"
      },
      "execution_count": null,
      "outputs": []
    },
    {
      "cell_type": "code",
      "source": [
        "# Stacked Bar Chart (plotly)\n",
        "# Explanation: This stacked bar chart compares total sales by region, further dividing them by product categories.\n",
        "# Key code explanation:\n",
        "# - `px.bar`: Generates a stacked bar chart.\n",
        "# - `color=\"Product\"`: Differentiates bars by product category.\n",
        "stacked_data = sales_data.groupby([\"Region\", \"Product\"])[\"Sales\"].sum().reset_index()\n",
        "fig = px.bar(stacked_data, x=\"Region\", y=\"Sales\", color=\"Product\", title=\"Stacked Sales by Region and Product\")\n",
        "fig.show()"
      ],
      "metadata": {
        "id": "yvphZy7cg6CE"
      },
      "execution_count": null,
      "outputs": []
    },
    {
      "cell_type": "code",
      "source": [
        "# Scatter Plot Matrix (plotly)\n",
        "# Explanation: A scatter plot matrix visualizes pairwise relationships between sales, profit, and units sold.\n",
        "# Key code explanation:\n",
        "# - `px.scatter_matrix`: Creates a scatter matrix for selected variables.\n",
        "# - `color=\"Region\"`: Differentiates points by region.\n",
        "fig = px.scatter_matrix(sales_data, dimensions=[\"Sales\", \"Profit\", \"Units Sold\"], color=\"Region\", title=\"Scatter Matrix\")\n",
        "fig.show()"
      ],
      "metadata": {
        "id": "AvTrEX8ghDb0"
      },
      "execution_count": null,
      "outputs": []
    },
    {
      "cell_type": "code",
      "source": [
        "# Sunburst Chart (plotly)\n",
        "# Explanation: The sunburst chart breaks down total sales hierarchically by region and product, providing insights into distribution.\n",
        "# Key code explanation:\n",
        "# - `px.sunburst`: Creates a sunburst chart based on hierarchical data.\n",
        "# - `path`: Specifies the hierarchy (region -> product).\n",
        "fig = px.sunburst(sales_data, path=[\"Region\", \"Product\"], values=\"Sales\", title=\"Sunburst of Sales\")\n",
        "fig.show()"
      ],
      "metadata": {
        "id": "qGHJ1TRmhJxx"
      },
      "execution_count": null,
      "outputs": []
    },
    {
      "cell_type": "code",
      "source": [
        "### Multi-Panel Dashboards\n",
        "### Create dashboards that combine multiple Plotly graphs for an integrated overview of business performance.\n",
        "### The specs argument defines the type of each subplot in the grid.\n",
        "### specs is a list of lists, mirroring the subplot grid structure. Each inner list represents a row, and each element within the inner list represents a column.\n",
        "### {\"type\": \"xy\"}: This indicates that the subplot should use Cartesian coordinates (x and y axes), suitable for plots like line charts, bar charts, and scatter plots.\n",
        "### {\"type\": \"domain\"}: This is specifically for plots that don't use Cartesian coordinates, such as pie charts, sunburst charts, and ternary plots. It allows these plots to be placed within a subplot.\n",
        "\n",
        "from plotly.subplots import make_subplots\n",
        "\n",
        "# Creating a multi-panel dashboard\n",
        "# specs=[[{\"type\": \"xy\"}, {\"type\": \"xy\"}], [{\"type\": \"xy\"}, {\"type\": \"domain\"}]] is used to define the type of each subplot\n",
        "# \"xy\" is for line, bar, and scatter plots\n",
        "# \"domain\" is for pie charts\n",
        "fig = make_subplots(rows=2, cols=2, subplot_titles=(\"Sales Over Time\", \"Sales by Region\", \"Sales vs Profit\", \"Sales by Product\"),\n",
        "                    specs=[[{\"type\": \"xy\"}, {\"type\": \"xy\"}], [{\"type\": \"xy\"}, {\"type\": \"domain\"}]])\n",
        "\n",
        "\n",
        "# Adding line plot\n",
        "line_data = sales_data.groupby(\"Date\")[\"Sales\"].sum().reset_index()\n",
        "fig.add_trace(px.line(line_data, x=\"Date\", y=\"Sales\").data[0], row=1, col=1)\n",
        "\n",
        "# Adding bar chart\n",
        "region_data = sales_data.groupby(\"Region\")[\"Sales\"].sum().reset_index()\n",
        "fig.add_trace(px.bar(region_data, x=\"Region\", y=\"Sales\").data[0], row=1, col=2)\n",
        "\n",
        "# Adding scatter plot\n",
        "fig.add_trace(px.scatter(sales_data, x=\"Sales\", y=\"Profit\", color=\"Region\").data[0], row=2, col=1)\n",
        "\n",
        "# Adding pie chart\n",
        "product_data = sales_data.groupby(\"Product\")[\"Sales\"].sum().reset_index()\n",
        "fig.add_trace(px.pie(product_data, names=\"Product\", values=\"Sales\").data[0], row=2, col=2)\n",
        "\n",
        "fig.update_layout(height=800, width=1000, title_text=\"Business Analytics Dashboard\")\n",
        "fig.show()"
      ],
      "metadata": {
        "id": "_yATEmWyx3ZO"
      },
      "execution_count": null,
      "outputs": []
    },
    {
      "cell_type": "markdown",
      "source": [
        "## Tasks"
      ],
      "metadata": {
        "id": "LgdI56KElBny"
      }
    },
    {
      "cell_type": "code",
      "source": [
        "# Task 1: Analyze the Distribution of Profit by Region\n",
        "# Create a violin plot to compare profit distributions for different regions."
      ],
      "metadata": {
        "id": "sOoAtgKzlFGU"
      },
      "execution_count": null,
      "outputs": []
    },
    {
      "cell_type": "code",
      "source": [
        "# Task 2: Visualize Sales Trends for Each Product\n",
        "# Use a line plot to visualize how sales for each product change over time."
      ],
      "metadata": {
        "id": "BhIGLGjilJqJ"
      },
      "execution_count": null,
      "outputs": []
    },
    {
      "cell_type": "markdown",
      "source": [
        "## Solutions"
      ],
      "metadata": {
        "id": "na6eADk6lOH8"
      }
    },
    {
      "cell_type": "code",
      "source": [
        "# Task 1: Analyze the Distribution of Profit by Region\n",
        "# Create a violin plot to compare profit distributions for different regions.\n",
        "# Shape and Width: The width of the violin at different profit levels indicates the density of profits. Wider areas show where profit values are more frequent.\n",
        "# Median Line: The white dot in the middle of each violin represents the median profit for the respective region.\n",
        "# Quartiles: The thick black bar within each violin shows the interquartile range (IQR).\n",
        "# Tails: The thin lines extending from the IQR indicate the range of lower and upper profits, excluding outliers.\n",
        "plt.figure(figsize=(12, 8))\n",
        "sns.violinplot(x=\"Region\", y=\"Profit\", data=sales_data, palette=\"muted\")\n",
        "plt.title(\"Profit Distribution by Region\", fontsize=16)\n",
        "plt.xlabel(\"Region\", fontsize=14)\n",
        "plt.ylabel(\"Profit\", fontsize=14)\n",
        "plt.tight_layout()\n",
        "plt.show()"
      ],
      "metadata": {
        "id": "ezGWukWhlPuv"
      },
      "execution_count": null,
      "outputs": []
    },
    {
      "cell_type": "code",
      "source": [
        "# Task 2: Visualize Sales Trends for Each Product\n",
        "# Use a line plot to visualize how sales for each product change over time.\n",
        "plt.figure(figsize=(12, 8))\n",
        "product_sales_over_time = sales_data.groupby([\"Date\", \"Product\"])[\"Sales\"].sum().reset_index()\n",
        "sns.lineplot(data=product_sales_over_time, x=\"Date\", y=\"Sales\", hue=\"Product\", palette=\"pastel\")\n",
        "plt.title(\"Sales Trends by Product\", fontsize=16)\n",
        "plt.xlabel(\"Date\", fontsize=14)\n",
        "plt.ylabel(\"Sales\", fontsize=14)\n",
        "plt.legend(title=\"Product\", fontsize=12)\n",
        "plt.tight_layout()\n",
        "plt.show()"
      ],
      "metadata": {
        "id": "qMS9iryLlXM4"
      },
      "execution_count": null,
      "outputs": []
    }
  ]
}