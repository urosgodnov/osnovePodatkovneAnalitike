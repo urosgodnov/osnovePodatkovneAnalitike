{
  "nbformat": 4,
  "nbformat_minor": 0,
  "metadata": {
    "colab": {
      "provenance": [],
      "toc_visible": true,
      "authorship_tag": "ABX9TyN8QJ4HBSLfXC2cCUbsIz48",
      "include_colab_link": true
    },
    "kernelspec": {
      "name": "python3",
      "display_name": "Python 3"
    },
    "language_info": {
      "name": "python"
    }
  },
  "cells": [
    {
      "cell_type": "markdown",
      "metadata": {
        "id": "view-in-github",
        "colab_type": "text"
      },
      "source": [
        "<a href=\"https://colab.research.google.com/github/urosgodnov/Python-Programming-for-Business-Analytics/blob/main/Python_IV.ipynb\" target=\"_parent\"><img src=\"https://colab.research.google.com/assets/colab-badge.svg\" alt=\"Open In Colab\"/></a>"
      ]
    },
    {
      "cell_type": "markdown",
      "source": [
        "# Python Programming for Business Analytics - Basics of Python - IV"
      ],
      "metadata": {
        "id": "mNYdIeJZLXcx"
      }
    },
    {
      "cell_type": "markdown",
      "source": [
        "## Pandas"
      ],
      "metadata": {
        "id": "0g3DBL2ULodi"
      }
    },
    {
      "cell_type": "code",
      "source": [
        "import pandas as pd\n",
        "import numpy as np"
      ],
      "metadata": {
        "id": "sCHkiVZwLiBM"
      },
      "execution_count": null,
      "outputs": []
    },
    {
      "cell_type": "markdown",
      "source": [
        "### Renaming, grouping and sorting"
      ],
      "metadata": {
        "id": "m2xUc55mMXyr"
      }
    },
    {
      "cell_type": "code",
      "execution_count": null,
      "metadata": {
        "id": "nOCt19joLW0r"
      },
      "outputs": [],
      "source": [
        "data = {\n",
        "    'Name': ['Alice', 'Bob', 'Charlie', 'David'],\n",
        "    'Age': [24, 27, 22, 32],\n",
        "    'Salary': [50000, 60000, 55000, 70000],\n",
        "    'Department': ['HR', 'IT', 'Finance', 'IT']\n",
        "}\n",
        "\n",
        "df = pd.DataFrame(data)\n",
        "\n",
        "def case_statement(row):\n",
        "    if row['Age'] < 25:\n",
        "        return 'Young'\n",
        "    elif 25 <= row['Age'] < 30:\n",
        "        return 'Mid-age'\n",
        "    else:\n",
        "        return 'Experienced'\n",
        "\n",
        "df['Experience Level'] = df.apply(case_statement, axis=1)\n",
        "df['Annual Bonus'] = df['Salary'] * 0.1"
      ]
    },
    {
      "cell_type": "code",
      "source": [
        "# renaming\n",
        "renamed_df = df.rename(columns={'Name': 'Employee Name', 'Salary': 'Monthly Salary'})\n",
        "renamed_df"
      ],
      "metadata": {
        "id": "xphW87iBNBqo"
      },
      "execution_count": null,
      "outputs": []
    },
    {
      "cell_type": "code",
      "source": [
        "# Grouping by Department and Calculating Mean Salary\n",
        "grouped_df = df.groupby('Department')['Salary'].mean().reset_index()\n",
        "grouped_df"
      ],
      "metadata": {
        "id": "tXhnedevNMp_"
      },
      "execution_count": null,
      "outputs": []
    },
    {
      "cell_type": "code",
      "source": [
        "# Sorting by Salary in Descending Order\n",
        "sorted_df = df.sort_values(by='Salary', ascending=False)\n",
        "sorted_df"
      ],
      "metadata": {
        "id": "DQ2l4Xx3NUpO"
      },
      "execution_count": null,
      "outputs": []
    },
    {
      "cell_type": "code",
      "source": [
        "# Grouping by Multiple Columns and Calculating Multiple Aggregations\n",
        "grouped_agg_df = df.groupby(['Department', 'Experience Level']).agg(\n",
        "    Mean_Salary=('Salary', 'mean'),\n",
        "    Total_Bonus=('Annual Bonus', 'sum'),\n",
        "    Employee_Count=('Name', 'count')\n",
        ").reset_index()\n",
        "grouped_agg_df"
      ],
      "metadata": {
        "id": "mbp79ZfaNp_y"
      },
      "execution_count": null,
      "outputs": []
    },
    {
      "cell_type": "code",
      "source": [
        "# Calculate Percentage Contribution of Each Employee's Salary to Their Department's Total Salary\n",
        "# it broadcasts the sum of salaries for each department to all the employees belonging to that department\n",
        "df['Department Total Salary'] = df.groupby('Department')['Salary'].transform('sum')\n",
        "df['Salary Contribution %'] = (df['Salary'] / df['Department Total Salary']) * 100\n",
        "\n",
        "df"
      ],
      "metadata": {
        "id": "eoLBLWlsSIt7"
      },
      "execution_count": null,
      "outputs": []
    },
    {
      "cell_type": "markdown",
      "source": [
        "### Tasks"
      ],
      "metadata": {
        "id": "HtOQOpuOVP04"
      }
    },
    {
      "cell_type": "code",
      "source": [
        "# New Sample DataFrame for demonstration\n",
        "new_data = {\n",
        "    'Product': ['Laptop', 'Tablet', 'Smartphone', 'Desktop', 'Smartwatch'],\n",
        "    'Category': ['Electronics', 'Electronics', 'Electronics', 'Electronics', 'Wearables'],\n",
        "    'Price': [1200, 300, 800, 1500, 200],\n",
        "    'Units Sold': [100, 200, 150, 50, 300],\n",
        "    'Rating': [4.5, 4.2, 4.7, 4.3, 4.8]\n",
        "}\n",
        "\n",
        "new_df = pd.DataFrame(new_data)"
      ],
      "metadata": {
        "id": "8khDbyMSVSuX"
      },
      "execution_count": null,
      "outputs": []
    },
    {
      "cell_type": "code",
      "source": [
        "# Grouping by Category and Calculating Total Revenue\n",
        "# revenue should be calculated with units*price"
      ],
      "metadata": {
        "id": "1LzaEOUkVT__"
      },
      "execution_count": null,
      "outputs": []
    },
    {
      "cell_type": "code",
      "source": [
        "# Sorting by Revenue in Descending Order"
      ],
      "metadata": {
        "id": "wTJ5-IhwWbOX"
      },
      "execution_count": null,
      "outputs": []
    },
    {
      "cell_type": "code",
      "source": [
        "# Grouping by Rating Category and Calculating Multiple Aggregations\n",
        "# Avg_Price, Total_Units_Sold, Product_Count\n",
        "new_df['Rating Category'] = np.select(\n",
        "    condlist=[\n",
        "        new_df['Rating'] >= 4.5,\n",
        "        (new_df['Rating'] >= 4.0) & (new_df['Rating'] < 4.5),\n",
        "        new_df['Rating'] < 4.0\n",
        "    ],\n",
        "    choicelist=['Excellent', 'Good', 'Average'],\n",
        "    default='Unknown'\n",
        ")"
      ],
      "metadata": {
        "id": "yD918n5iWgqQ"
      },
      "execution_count": null,
      "outputs": []
    },
    {
      "cell_type": "code",
      "source": [
        "# Calculate Each Product's Contribution to Total Revenue"
      ],
      "metadata": {
        "id": "alTQCuOlW6OF"
      },
      "execution_count": null,
      "outputs": []
    },
    {
      "cell_type": "markdown",
      "source": [
        "### Solutions"
      ],
      "metadata": {
        "id": "vn3fwu_7XCwH"
      }
    },
    {
      "cell_type": "code",
      "source": [
        "new_df['Revenue'] = new_df['Price'] * new_df['Units Sold']  # Ensure 'Revenue' exists for this task\n",
        "grouped_revenue_df = new_df.groupby('Category')['Revenue'].sum().reset_index()\n",
        "\n",
        "grouped_revenue_df"
      ],
      "metadata": {
        "id": "b1kzp-SoXFS3"
      },
      "execution_count": null,
      "outputs": []
    },
    {
      "cell_type": "code",
      "source": [
        "sorted_revenue_df = new_df.sort_values(by='Revenue', ascending=False)\n",
        "\n",
        "sorted_revenue_df"
      ],
      "metadata": {
        "id": "GgA5lODhXKbI"
      },
      "execution_count": null,
      "outputs": []
    },
    {
      "cell_type": "code",
      "source": [
        "grouped_rating_df = new_df.groupby('Rating Category').agg(\n",
        "    Avg_Price=('Price', 'mean'),\n",
        "    Total_Units_Sold=('Units Sold', 'sum'),\n",
        "    Product_Count=('Product', 'count')\n",
        ").reset_index()\n",
        "\n",
        "grouped_rating_df"
      ],
      "metadata": {
        "id": "28OVxvsaXO1L"
      },
      "execution_count": null,
      "outputs": []
    },
    {
      "cell_type": "code",
      "source": [
        "new_df['Total Revenue'] = new_df['Revenue'].sum()\n",
        "new_df['Revenue Contribution %'] = (new_df['Revenue'] / new_df['Total Revenue']) * 100\n",
        "\n",
        "new_df"
      ],
      "metadata": {
        "id": "2MIIep78XXSg"
      },
      "execution_count": null,
      "outputs": []
    },
    {
      "cell_type": "markdown",
      "source": [
        "### Handling missing data"
      ],
      "metadata": {
        "id": "y048dPYMZjUI"
      }
    },
    {
      "cell_type": "code",
      "source": [
        "missing_data = {\n",
        "    'Employee': ['Alice', 'Bob', 'Charlie', 'David', 'Eve', 'Frank', 'Grace', 'Hannah', 'Ian', 'Jack'],\n",
        "    'Department': ['HR', 'IT', 'Finance', np.nan, 'IT', 'HR', np.nan, 'Finance', 'IT', 'HR'],\n",
        "    'Salary': [50000, 60000, None, 55000, 70000, 48000, None, None, 62000, 52000],\n",
        "    'Join Date': ['2020-01-15', '2019-06-01', '2021-03-20', None, '2018-12-11', '2015-07-10', None, '2017-09-23', '2016-03-30', '2019-11-12'],\n",
        "    'Performance Rating': [4.5, np.nan, 4.7, 4.3, None, 4.2, 4.6, np.nan, 4.1, None]\n",
        "}\n",
        "\n",
        "missing_df = pd.DataFrame(missing_data)\n",
        "missing_df.head()"
      ],
      "metadata": {
        "id": "WoJfCafyZnyc"
      },
      "execution_count": null,
      "outputs": []
    },
    {
      "cell_type": "code",
      "source": [
        "# Checking for null values in the DataFrame\n",
        "null_values_check = pd.isnull(missing_df)\n",
        "\n",
        "null_values_check"
      ],
      "metadata": {
        "id": "mWtG9Cs4ZtvN"
      },
      "execution_count": null,
      "outputs": []
    },
    {
      "cell_type": "code",
      "source": [
        "# Selecting rows where a specific column has null values\n",
        "null_rows_salary = missing_df[missing_df['Salary'].isnull()]\n",
        "\n",
        "null_rows_salary"
      ],
      "metadata": {
        "id": "wyGs0p3UaDr8"
      },
      "execution_count": null,
      "outputs": []
    },
    {
      "cell_type": "code",
      "source": [
        "# Counting total null values per column\n",
        "null_count = pd.isnull(missing_df).sum()\n",
        "\n",
        "null_count"
      ],
      "metadata": {
        "id": "7H2TOCAjaJCW"
      },
      "execution_count": null,
      "outputs": []
    },
    {
      "cell_type": "code",
      "source": [
        "# Dropping rows with any null values\n",
        "dropped_na_rows = missing_df.dropna()\n",
        "\n",
        "dropped_na_rows"
      ],
      "metadata": {
        "id": "8ayTxYWZaRvI"
      },
      "execution_count": null,
      "outputs": []
    },
    {
      "cell_type": "code",
      "source": [
        "# Dropping columns with any null values\n",
        "dropped_na_columns = missing_df.dropna(axis=1)\n",
        "\n",
        "dropped_na_columns"
      ],
      "metadata": {
        "id": "EjbBiI3haZVI"
      },
      "execution_count": null,
      "outputs": []
    },
    {
      "cell_type": "code",
      "source": [
        "# Replacing missing values with a specified value (e.g., 0 for 'Salary')\n",
        "filled_na_with_zero = missing_df.fillna({'Salary': 0})\n",
        "\n",
        "filled_na_with_zero"
      ],
      "metadata": {
        "id": "6fvLJVcpaiYc"
      },
      "execution_count": null,
      "outputs": []
    },
    {
      "cell_type": "code",
      "source": [
        "# Replacing missing values in a Series with its mean (example: 'Performance Rating')\n",
        "missing_df['Performance Rating'] = missing_df['Performance Rating'].fillna(missing_df['Performance Rating'].mean())\n",
        "\n",
        "missing_df"
      ],
      "metadata": {
        "id": "QPxNVpfcaxOI"
      },
      "execution_count": null,
      "outputs": []
    },
    {
      "cell_type": "code",
      "source": [
        "# Advanced: Forward Fill Missing Values in Join Date\n",
        "missing_df['Join Date'] = missing_df['Join Date'].fillna(method='ffill')\n",
        "\n",
        "missing_df"
      ],
      "metadata": {
        "id": "nL8yJHB-bimB"
      },
      "execution_count": null,
      "outputs": []
    },
    {
      "cell_type": "code",
      "source": [
        "# Advanced: Backward Fill Missing Values in Department\n",
        "missing_df['Department'] = missing_df['Department'].fillna(method='bfill')\n",
        "\n",
        "missing_df"
      ],
      "metadata": {
        "id": "j3vJdMcKbpVM"
      },
      "execution_count": null,
      "outputs": []
    },
    {
      "cell_type": "code",
      "source": [
        "# interpolate() function in pandas fills missing values in a column by estimating their values using a defined interpolation method.\n",
        "# By default, it uses linear interpolation, which assumes a straight line between known data points to estimate the missing values.\n",
        "\n",
        "missing_df['Salary'] = missing_df['Salary'].interpolate()\n",
        "missing_df['Performance Rating'] = missing_df['Performance Rating'].interpolate()\n",
        "\n",
        "missing_df"
      ],
      "metadata": {
        "id": "XxIOEoiZcPVd"
      },
      "execution_count": null,
      "outputs": []
    },
    {
      "cell_type": "markdown",
      "source": [
        "### Task"
      ],
      "metadata": {
        "id": "p8h56xq7fh4J"
      }
    },
    {
      "cell_type": "code",
      "source": [
        "# Task Instructions:\n",
        "# 1. Replace missing values in the 'Department' column with \"Unknown\".\n",
        "# 2. Replace missing values in the 'Salary' column with the average salary.\n",
        "# 3. Replace missing values in the 'Join Date' column with \"2020-01-01\".\n",
        "# 4. Replace missing values in the 'Performance Rating' column with the column's mean.\n",
        "# 5. Rename the 'Performance Rating' column to 'Rating'.\n",
        "# 6. Create a subset of rows where 'Salary' is greater than 55000 and only include 'Employee' and 'Salary'.\n",
        "# 7. Group the data by 'Department' and calculate the average salary and count of employees.\n",
        "\n",
        "data = {\n",
        "    'Employee': ['Alice', 'Bob', 'Charlie', 'David', 'Eve'],\n",
        "    'Department': ['HR', 'IT', 'Finance', 'IT', None],\n",
        "    'Salary': [50000, 60000, 55000, None, 70000],\n",
        "    'Join Date': ['2020-01-15', '2019-06-01', '2021-03-20', None, '2018-12-11'],\n",
        "    'Performance Rating': [4.5, 4.2, 4.7, 4.3, None]\n",
        "}\n",
        "\n",
        "# Create the DataFrame\n",
        "missing_df = pd.DataFrame(data)\n",
        "\n",
        "missing_df"
      ],
      "metadata": {
        "id": "6rhRnUqRfla9"
      },
      "execution_count": null,
      "outputs": []
    },
    {
      "cell_type": "markdown",
      "source": [
        "### Solution"
      ],
      "metadata": {
        "id": "FrOcx48ufyPJ"
      }
    },
    {
      "cell_type": "code",
      "source": [
        "# 1. Replace missing values in the 'Department' column\n",
        "missing_df['Department'] = missing_df['Department'].fillna('Unknown')\n",
        "\n",
        "# 2. Replace missing values in the 'Salary' column\n",
        "missing_df['Salary'] = missing_df['Salary'].fillna(missing_df['Salary'].mean())\n",
        "\n",
        "# 3. Replace missing values in the 'Join Date' column\n",
        "missing_df['Join Date'] = missing_df['Join Date'].fillna('2020-01-01')\n",
        "\n",
        "# 4. Replace missing values in the 'Performance Rating' column\n",
        "missing_df['Performance Rating'] = missing_df['Performance Rating'].fillna(missing_df['Performance Rating'].mean())\n",
        "\n",
        "# 5. Rename the 'Performance Rating' column to 'Rating'\n",
        "missing_df.rename(columns={'Performance Rating': 'Rating'}, inplace=True)\n",
        "\n",
        "# 6. Create a subset of rows where 'Salary' is greater than 55000\n",
        "salary_subset = missing_df.loc[missing_df['Salary'] > 55000, ['Employee', 'Salary']]\n",
        "\n",
        "# 7. Group the data by 'Department'\n",
        "grouped_data = missing_df.groupby('Department').agg(\n",
        "    Avg_Salary=('Salary', 'mean'),\n",
        "    Employee_Count=('Employee', 'count')\n",
        ").reset_index()"
      ],
      "metadata": {
        "id": "4Me4_W3of0UM"
      },
      "execution_count": null,
      "outputs": []
    },
    {
      "cell_type": "markdown",
      "source": [
        "### Datetime with pandas"
      ],
      "metadata": {
        "id": "8ccKGHDMi6QD"
      }
    },
    {
      "cell_type": "markdown",
      "source": [
        "![image.png](data:image/png;base64,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)"
      ],
      "metadata": {
        "id": "hYEvPYQni9ge"
      }
    },
    {
      "cell_type": "code",
      "source": [
        "import pandas as pd\n",
        "\n",
        "# Your DataFrame\n",
        "data = {\n",
        "    'Full Name': ['Alice Smith', 'Bob Johnson', 'Charlie Brown', 'David Wilson', 'Eve Adams'],\n",
        "    'Department': ['HR', 'IT', 'Finance', 'IT', 'Marketing'],\n",
        "    'Start Date': ['2020-01-15', '2019-06-01', '2021-03-20', '2018-12-11', '2022-07-15'],\n",
        "    'End Date': ['1/10/2022', '6/15/2023', '10/1/2022', '12/31/2021', '8/1/2023'],\n",
        "    'Employee ID': ['E123', 'E456', 'E789', 'E012', 'E345'],\n",
        "    'Email': ['alice.smith@company.com', 'bob.johnson@company.com', 'charlie.brown@company.com', 'david.wilson@company.com', 'eve.adams@company.com']\n",
        "}\n",
        "\n",
        "string_datetime_df = pd.DataFrame(data)\n",
        "\n",
        "# Convert 'Start Date' to datetime\n",
        "string_datetime_df['Start Date'] = pd.to_datetime(string_datetime_df['Start Date'])\n",
        "\n",
        "# Access the dt accessor and list its methods\n",
        "methods = [method for method in dir(string_datetime_df['Start Date'].dt) if not method.startswith('_')]\n",
        "list(methods)"
      ],
      "metadata": {
        "id": "h3GUF_hZjL5i"
      },
      "execution_count": null,
      "outputs": []
    },
    {
      "cell_type": "code",
      "source": [
        "# Parsing string to datetime\n",
        "# pd.to_datetime() with errors='coerce' tries to understand each date. If it can, it puts the date on a calendar. If it can't,\n",
        "# it throws the unreadable date into a separate \"invalid\" pile (NaT)\n",
        "string_datetime_df['End Date'] = pd.to_datetime(string_datetime_df['End Date'], errors='coerce')\n",
        "\n",
        "string_datetime_df"
      ],
      "metadata": {
        "id": "cKN47JRmnNju"
      },
      "execution_count": null,
      "outputs": []
    },
    {
      "cell_type": "code",
      "source": [
        "# Extract year, month, and day from 'Start Date'\n",
        "string_datetime_df['Start Year'] = string_datetime_df['Start Date'].dt.year\n",
        "string_datetime_df['Start Month'] = string_datetime_df['Start Date'].dt.month\n",
        "string_datetime_df['Start Day'] = string_datetime_df['Start Date'].dt.day\n",
        "\n",
        "string_datetime_df"
      ],
      "metadata": {
        "id": "0msVdpKKkIFN"
      },
      "execution_count": null,
      "outputs": []
    },
    {
      "cell_type": "code",
      "source": [
        "# Add a column for the day of the week as a string\n",
        "string_datetime_df['Day of Week'] = string_datetime_df['Start Date'].dt.day_name()\n",
        "\n",
        "string_datetime_df\n"
      ],
      "metadata": {
        "id": "Tv5iwNuLkrrV"
      },
      "execution_count": null,
      "outputs": []
    },
    {
      "cell_type": "code",
      "source": [
        "# Calculate days since start\n",
        "string_datetime_df['Days Since Start'] = (pd.Timestamp('today') - string_datetime_df['Start Date']).dt.days\n",
        "\n",
        "string_datetime_df"
      ],
      "metadata": {
        "id": "KZEpAi1Vk-au"
      },
      "execution_count": null,
      "outputs": []
    },
    {
      "cell_type": "code",
      "source": [
        "# Create a column indicating if 'Start Date' was on a weekend\n",
        "# day of the week as integers (Monday=0, Sunday=6)\n",
        "\n",
        "string_datetime_df['Started on Weekend'] = string_datetime_df['Start Date'].dt.dayofweek >= 5\n",
        "\n",
        "string_datetime_df"
      ],
      "metadata": {
        "id": "-xTfNdYylD3F"
      },
      "execution_count": null,
      "outputs": []
    },
    {
      "cell_type": "code",
      "source": [
        "# Format 'Start Date' as 'Month-Year'\n",
        "string_datetime_df['Start Month-Year'] = string_datetime_df['Start Date'].dt.strftime('%B-%Y')\n",
        "\n",
        "string_datetime_df"
      ],
      "metadata": {
        "id": "_zoVXzXKl47a"
      },
      "execution_count": null,
      "outputs": []
    },
    {
      "cell_type": "code",
      "source": [
        "# Add a column for months since start\n",
        "string_datetime_df['Months Since Start'] = ((pd.Timestamp('today').year - string_datetime_df['Start Date'].dt.year) * 12 +\n",
        "                                            (pd.Timestamp('today').month - string_datetime_df['Start Date'].dt.month))\n",
        "\n",
        "string_datetime_df"
      ],
      "metadata": {
        "id": "fzF4aawsmWcm"
      },
      "execution_count": null,
      "outputs": []
    },
    {
      "cell_type": "code",
      "source": [
        "# Calculate months between 'Start Date' and 'End Date' using a UDF\n",
        "from dateutil.relativedelta import relativedelta\n",
        "def calculate_months_between_dates(row):\n",
        "    delta = relativedelta(row['End Date'], row['Start Date'])\n",
        "    #print(vars(delta))\n",
        "    return delta.years * 12 + delta.months\n",
        "\n",
        "string_datetime_df['Months Between Start and End'] = string_datetime_df.apply(calculate_months_between_dates, axis=1)\n",
        "\n",
        "string_datetime_df"
      ],
      "metadata": {
        "id": "mep6bVcaoF1b"
      },
      "execution_count": null,
      "outputs": []
    },
    {
      "cell_type": "code",
      "source": [
        "# Additional Example: Handling Time Intervals\n",
        "time_data = {\n",
        "    'Event': ['Login', 'Logout', 'Break', 'Meeting', 'Presentation'],\n",
        "    'Timestamp': ['2023-09-21 08:15:00', '2023-09-21 10:45:00', '2023-09-21 11:05:00', '2023-09-21 14:20:00', '2023-09-21 16:50:00']\n",
        "}\n",
        "\n",
        "# Create a new DataFrame with datetime data\n",
        "time_df = pd.DataFrame(time_data)\n",
        "time_df['Timestamp'] = pd.to_datetime(time_df['Timestamp'])\n",
        "\n",
        "time_df"
      ],
      "metadata": {
        "id": "dPyzRLUu6GRf"
      },
      "execution_count": null,
      "outputs": []
    },
    {
      "cell_type": "code",
      "source": [
        "# Create a column for time intervals (2-hour bins)\n",
        "# The hour // 2 performs integer division by 2, grouping hours into blocks of 2 (e.g., 0–1, 2–3, 4–5)\n",
        "# Multiplying by 2 gives the start of the interval. For example:\n",
        "# If hour = 13, then 13 // 2 = 6, and 6 * 2 = 12. So, interval_start = 12.\n",
        "# The :02d ensures the hour is zero-padded to two digits (e.g., 08 instead of 8)\n",
        "\n",
        "def assign_time_interval(timestamp):\n",
        "    hour = timestamp.hour\n",
        "    interval_start = (hour // 2) * 2  # Start of the interval\n",
        "    interval_end = interval_start + 2  # End of the interval\n",
        "    return f\"{interval_start:02d}:00 - {interval_end:02d}:00\"\n",
        "\n",
        "time_df['Time Interval'] = time_df['Timestamp'].apply(assign_time_interval)\n",
        "\n",
        "time_df"
      ],
      "metadata": {
        "id": "ISHCe7oM6Oh1"
      },
      "execution_count": null,
      "outputs": []
    },
    {
      "cell_type": "code",
      "source": [
        "# problems with different local settings, e.g. German month names\n",
        "# changing locale on google colab is not straightforward\n",
        "# MAC: en_US.UTF-8, de_DE.UTF-8; windows: deu\n"
      ],
      "metadata": {
        "id": "vmJcKyxO9Qf-"
      },
      "execution_count": null,
      "outputs": []
    },
    {
      "cell_type": "markdown",
      "source": [
        "### Task"
      ],
      "metadata": {
        "id": "MHsZR-S6BzJj"
      }
    },
    {
      "cell_type": "code",
      "source": [
        "# Load parquet file from nycTaxi for July, 2024\n",
        "# Analyze which combination of days (weekday name) and hour intervals (by 2 hours)\n",
        "# has the highest frequency\n",
        "\n",
        "nyc_taxi_parquet = pd.read_parquet('https://d37ci6vzurychx.cloudfront.net/trip-data/yellow_tripdata_2024-07.parquet')\n",
        "nyc_taxi_parquet.head()"
      ],
      "metadata": {
        "id": "hKnvD26WB4by"
      },
      "execution_count": null,
      "outputs": []
    },
    {
      "cell_type": "markdown",
      "source": [
        "### Solution"
      ],
      "metadata": {
        "id": "EVrsdxdQCnr2"
      }
    },
    {
      "cell_type": "code",
      "source": [
        "def assign_time_interval(timestamp):\n",
        "    hour = timestamp.hour\n",
        "    interval_start = (hour // 2) * 2  # Start of the interval\n",
        "    interval_end = interval_start + 2  # End of the interval\n",
        "    return f\"{interval_start:02d}:00 - {interval_end:02d}:00\"\n",
        "\n",
        "nyc_taxi_parquet['time_interval'] = nyc_taxi_parquet['tpep_pickup_datetime'].apply(assign_time_interval)\n",
        "nyc_taxi_parquet['weekday_name'] = nyc_taxi_parquet['tpep_pickup_datetime'].dt.day_name()"
      ],
      "metadata": {
        "id": "CEyqxAXFCqBd"
      },
      "execution_count": null,
      "outputs": []
    },
    {
      "cell_type": "code",
      "source": [
        "nyc_taxi_parquet[[\"weekday_name\",\"time_interval\"]].head()"
      ],
      "metadata": {
        "id": "qkZgrjgYDR7y"
      },
      "execution_count": null,
      "outputs": []
    },
    {
      "cell_type": "code",
      "source": [
        "nyc_taxi_parquet.groupby([\"weekday_name\",\"time_interval\"]). \\\n",
        "size().reset_index(name=\"count\").sort_values(\"count\", ascending=False).head()"
      ],
      "metadata": {
        "id": "iCSed4aADdT2"
      },
      "execution_count": null,
      "outputs": []
    },
    {
      "cell_type": "markdown",
      "source": [
        "### String manipulation with pandas"
      ],
      "metadata": {
        "id": "LXbtNpalFMFW"
      }
    },
    {
      "cell_type": "code",
      "source": [
        "data = {\n",
        "    'Full Name': ['Alice Smith', 'Bob Johnson', 'Charlie Brown', 'David Wilson', 'Eve Adams'],\n",
        "    'Department': ['HR', 'IT', 'Finance', 'IT', 'Marketing'],\n",
        "    'Start Date': ['2020-01-15', '2019-06-01', '2021-03-20', '2018-12-11', '2022-07-15'],\n",
        "    'End Date': ['1/10/2022', '6/15/2023', '10/1/2022', '12/31/2021', '8/1/2023'],\n",
        "    'Employee ID': ['E123', 'E456', 'E789', 'E012', 'E345'],\n",
        "    'Email': ['alice.smith@company.com', 'bob.johnson@company.com', 'charlie.brown@company.com', 'david.wilson@company.com', 'eve.adams@company.com']\n",
        "}\n",
        "\n",
        "# Create the DataFrame\n",
        "string_datetime_df = pd.DataFrame(data)"
      ],
      "metadata": {
        "id": "21IxJx8mFP_T"
      },
      "execution_count": null,
      "outputs": []
    },
    {
      "cell_type": "code",
      "source": [
        "# Split 'Full Name' into 'First Name' and 'Last Name'\n",
        "\n",
        "string_datetime_df[['First Name', 'Last Name']] = string_datetime_df['Full Name'].str.split(' ', expand=True)\n",
        "\n",
        "string_datetime_df"
      ],
      "metadata": {
        "id": "sizZ5H6ZFfFg"
      },
      "execution_count": null,
      "outputs": []
    },
    {
      "cell_type": "code",
      "source": [
        "data1 = {\n",
        "    \"Full Name\": [\"John Doe\", \"Jane A. Smith\", \"Bob Johnson\"],\n",
        "    \"Age\": [28, 34, 45],\n",
        "}\n",
        "\n",
        "df = pd.DataFrame(data1)\n",
        "\n",
        "split_df = df[\"Full Name\"].str.split(\" \", expand=True)\n",
        "print(split_df)"
      ],
      "metadata": {
        "id": "0W8SBBWOF_HQ"
      },
      "execution_count": null,
      "outputs": []
    },
    {
      "cell_type": "code",
      "source": [
        "# First name to upper, Lastname to lower\n",
        "string_datetime_df['Upper First Name'] = string_datetime_df['First Name'].str.upper()\n",
        "string_datetime_df['Lower Last Name'] = string_datetime_df['Last Name'].str.lower()\n",
        "\n",
        "string_datetime_df"
      ],
      "metadata": {
        "id": "v23gwiyeHEIC"
      },
      "execution_count": null,
      "outputs": []
    },
    {
      "cell_type": "code",
      "source": [
        "# Extract domain names from 'Email'\n",
        "\n",
        "string_datetime_df['Email Domain'] = string_datetime_df['Email'].str.split('@').str[1]\n",
        "\n",
        "string_datetime_df"
      ],
      "metadata": {
        "id": "D4m-q0-3GFtK"
      },
      "execution_count": null,
      "outputs": []
    },
    {
      "cell_type": "code",
      "source": [
        "# Check if 'Email' contains 'company.com'\n",
        "string_datetime_df['Is Company Email'] = string_datetime_df['Email'].str.contains('company.com')\n",
        "\n",
        "string_datetime_df"
      ],
      "metadata": {
        "id": "G6JJzupgGTDi"
      },
      "execution_count": null,
      "outputs": []
    },
    {
      "cell_type": "code",
      "source": [
        "# Extract numeric part of 'Employee ID'\n",
        "# regular expressions\n",
        "string_datetime_df['Employee Number'] = string_datetime_df['Employee ID'].str.extract('(\\d+)')\n",
        "\n",
        "string_datetime_df"
      ],
      "metadata": {
        "id": "ZUhp-oYJGZRT"
      },
      "execution_count": null,
      "outputs": []
    },
    {
      "cell_type": "code",
      "source": [
        "# Replace spaces in 'Full Name' with underscores\n",
        "string_datetime_df['Full Name Underscore'] = string_datetime_df['Full Name'].str.replace(' ', '_', regex=False)\n",
        "\n",
        "string_datetime_df"
      ],
      "metadata": {
        "id": "USYkYoOjGqgp"
      },
      "execution_count": null,
      "outputs": []
    },
    {
      "cell_type": "markdown",
      "source": [
        "**Regular expressions (advanced)**\n",
        "\n",
        "- String Accessor (.str):\n",
        "\n",
        "In Pandas, string methods are accessed via the .str accessor on a Series or column.\n",
        "\n",
        "- Regex Parameter:\n",
        "\n",
        "Many string methods (e.g., .replace, .contains, .split, .extract) accept a regex=True/False parameter (often defaulting to True).\n",
        "\n",
        "- Common Methods:\n",
        "\n",
        "  - str.contains(): Check if a pattern is contained within each string.\n",
        "  - str.replace(): Replace substrings that match a pattern.\n",
        "  - str.split(): Split each string by a pattern.\n",
        "  - str.extract() / str.extractall(): Capture groups from each string using a regex.\n",
        "  - str.match(), str.fullmatch(), str.findall(): Various ways to match or find patterns.\n",
        "\n",
        "- Capture Groups:\n",
        "\n",
        "Parentheses ( ... ) define capture groups in your regex. str.extract() returns these groups as new columns.\n",
        "\n",
        "- Flags:\n",
        "\n",
        "You can pass regex flags like re.IGNORECASE (or re.I) by specifying the flags= parameter, making your search case-insensitive, etc.\n",
        "\n",
        "- Performance:\n",
        "\n",
        "Regex can be slower with very large Series. For performance-critical tasks, try to optimize or avoid overly complex patterns.\n"
      ],
      "metadata": {
        "id": "JzJT2TplHV--"
      }
    },
    {
      "cell_type": "code",
      "source": [
        "import re\n",
        "\n",
        "df = pd.DataFrame({\n",
        "    \"text\": [\n",
        "        \"Hello World!\",\n",
        "        \"Email me at example123@test.com\",\n",
        "        \"Numbers: 12345, 6789, and 42.\",\n",
        "        \"No digits here\",\n",
        "        \"MixedCaseString\",\n",
        "        \"Line with 2    spaces\",\n",
        "        \"Another line with tabs\\tand spaces\",\n",
        "        \"The price is $49.99\",\n",
        "        \"Visit https://docs.python.org\",\n",
        "        None  # Missing value\n",
        "    ]\n",
        "})\n",
        "\n",
        "df"
      ],
      "metadata": {
        "id": "gu8dqi82TvPU"
      },
      "execution_count": null,
      "outputs": []
    },
    {
      "cell_type": "code",
      "source": [
        "# Pattern: Any sequence of digits (\\d+)\n",
        "df[\"has_digits\"] = df[\"text\"].str.contains(r\"\\d+\", regex=True)\n",
        "\n",
        "df"
      ],
      "metadata": {
        "id": "ZTKZGhtiU9RV"
      },
      "execution_count": null,
      "outputs": []
    },
    {
      "cell_type": "code",
      "source": [
        "# Pattern: The string should start with \"Hello\"\n",
        "df[\"starts_with_hello\"] = df[\"text\"].str.match(r\"^Hello\")\n",
        "\n",
        "df"
      ],
      "metadata": {
        "id": "_yYqGb9RWJxP"
      },
      "execution_count": null,
      "outputs": []
    },
    {
      "cell_type": "code",
      "source": [
        "# Pattern: Only digits for the entire string\n",
        "df[\"entirely_digits\"] = df[\"text\"].str.fullmatch(r\"\\d+\")\n",
        "\n",
        "df"
      ],
      "metadata": {
        "id": "gKXWvYvYWLXx"
      },
      "execution_count": null,
      "outputs": []
    },
    {
      "cell_type": "code",
      "source": [
        "# Pattern: Remove all digits\n",
        "df[\"no_digits\"] = df[\"text\"].str.replace(r\"\\d+\", \"\", regex=True)\n",
        "\n",
        "df"
      ],
      "metadata": {
        "id": "1Az7QJd-WUn6"
      },
      "execution_count": null,
      "outputs": []
    },
    {
      "cell_type": "code",
      "source": [
        "# Split on any sequence of whitespace\n",
        "split_df = df[\"text\"].str.split(r\"\\s+\", expand=True)\n",
        "\n",
        "split_df"
      ],
      "metadata": {
        "id": "bENtGJm-WaNH"
      },
      "execution_count": null,
      "outputs": []
    },
    {
      "cell_type": "code",
      "source": [
        "# Pattern: all digit sequences\n",
        "df[\"all_numbers\"] = df[\"text\"].str.findall(r\"\\d+\")\n",
        "\n",
        "df"
      ],
      "metadata": {
        "id": "Lf_bKKWSWhNu"
      },
      "execution_count": null,
      "outputs": []
    },
    {
      "cell_type": "code",
      "source": [
        "# Pattern: All digit groups, capturing each sequence\n",
        "extracted = df[\"text\"].str.extractall(r\"(\\d+)\")\n",
        "\n",
        "extracted"
      ],
      "metadata": {
        "id": "tDpLccoQWuFv"
      },
      "execution_count": null,
      "outputs": []
    },
    {
      "cell_type": "code",
      "source": [
        "# Pattern: Count how many digits in each string\n",
        "df[\"digit_count\"] = df[\"text\"].str.count(r\"\\d\")\n",
        "\n",
        "df"
      ],
      "metadata": {
        "id": "GExucp8uYJKG"
      },
      "execution_count": null,
      "outputs": []
    },
    {
      "cell_type": "code",
      "source": [
        "df[\"contains_hello_case_insensitive\"] = df[\"text\"].str.contains(\n",
        "    r\"hello\",\n",
        "    flags=re.IGNORECASE,\n",
        "    regex=True\n",
        ")\n",
        "\n",
        "df"
      ],
      "metadata": {
        "id": "jOdzNxJrYdnF"
      },
      "execution_count": null,
      "outputs": []
    },
    {
      "cell_type": "code",
      "source": [
        "# Check if string ends with \".org\" using a regex pattern with contains\n",
        "df[\"ends_with_org\"] = df[\"text\"].str.contains(r\"\\.org$\", regex=True)\n",
        "\n",
        "df"
      ],
      "metadata": {
        "id": "KjXYAPHrYvJ2"
      },
      "execution_count": null,
      "outputs": []
    },
    {
      "cell_type": "markdown",
      "source": [
        "### Task"
      ],
      "metadata": {
        "id": "dq6mIv3aZfWY"
      }
    },
    {
      "cell_type": "code",
      "source": [
        "# Step 1: Create a sample DataFrame\n",
        "df = pd.DataFrame({\n",
        "    \"full_name\": [\n",
        "        \"John Doe\",\n",
        "        \"Jane A. Smith\",\n",
        "        \"   Bob  Johnson   \",  # extra spaces\n",
        "        \"Maria  de la Cruz\",\n",
        "        \"Tricky   Name   Test\"\n",
        "    ],\n",
        "    \"email\": [\n",
        "        \"john.doe@example.com\",\n",
        "        \"jane.smith@@some-domain.org\",  # double '@'\n",
        "        \"bob.johnson@mail.com\",\n",
        "        \"maria_cruz@example.es\",\n",
        "        None  # missing email\n",
        "    ],\n",
        "    \"phone\": [\n",
        "        \"+1(555)123-4567\",\n",
        "        \"555-abc-7890\",\n",
        "        \"(123) 456 7890 ext. 12\",\n",
        "        \"5551234567\",\n",
        "        \"???\"\n",
        "    ],\n",
        "    \"message\": [\n",
        "        \"OrderID: #12345. Looking for new shoes.\",\n",
        "        \"Hello, I'm interested in the summer sale. Order #6789.\",\n",
        "        \"Need a refund on order #42. Product code: X-123-XY.\",\n",
        "        \"Hola, about my last order #00123 and code: Y-99.\",\n",
        "        \"No order here. Product code: Z-999-XX. Another code: A-1234-BB. #44444\"\n",
        "    ]\n",
        "})\n",
        "\n",
        "df\n",
        "\n",
        "# Remove leading/trailing spaces and collapse multiple spaces into a single space. (str.strip())\n",
        "# Split the cleaned name into up to three parts:\n",
        "# - first_name\n",
        "# - middle_name (optional)\n",
        "# - last_name (if there are more than two parts, lump everything after the second split into last_name)\n",
        "# Normalize phone Numbers:\n",
        "#  - Extract a clean numeric version of the phone number in phone_clean (e.g., \"15551234567\").\n",
        "#  - Remove parentheses, dashes, letters, spaces, etc. Possibly keep a leading + if relevant.\n",
        "#  - Mark numbers that have fewer than 10 digits (after cleaning) as invalid in a new column phone_valid (ge).\n",
        "# Extract Order IDs & Product Codes from message:\n",
        "#  - Order IDs appear as #12345, #42, #00123, etc. Extract all occurrences from each message. Store them in a list in a column named order_ids.\n",
        "#  - You can use df[\"message\"].str.findall(...) with a pattern like r\"#(\\d+)\"."
      ],
      "metadata": {
        "id": "JxSa6BF_Zg_z"
      },
      "execution_count": null,
      "outputs": []
    },
    {
      "cell_type": "markdown",
      "source": [
        "### Solution"
      ],
      "metadata": {
        "id": "JonL5qbiavEc"
      }
    },
    {
      "cell_type": "code",
      "source": [
        "# 1) Remove leading/trailing spaces\n",
        "df[\"full_name_clean\"] = df[\"full_name\"].str.strip()\n",
        "\n",
        "# 2) Collapse multiple spaces to one\n",
        "df[\"full_name_clean\"] = df[\"full_name_clean\"].str.replace(r\"\\s+\", \" \", regex=True)\n",
        "\n",
        "# 3) Split into up to three parts\n",
        "names_split = df[\"full_name_clean\"].str.split(\" \", n=2, expand=True)\n",
        "df[\"first_name\"] = names_split[0]\n",
        "df[\"middle_name\"] = names_split[1]\n",
        "df[\"last_name\"] = names_split[2]\n",
        "\n",
        "# Keep digits and optionally a leading '+'\n",
        "df[\"phone_clean\"] = df[\"phone\"].str.replace(r\"[^\\d+]\", \"\", regex=True)\n",
        "\n",
        "# Check length (e.g., must be >= 10 digits)\n",
        "df[\"phone_valid\"] = df[\"phone_clean\"].str.len().ge(10)\n",
        "\n",
        "# Order IDs\n",
        "df[\"order_ids\"] = df[\"message\"].str.findall(r\"#(\\d+)\")\n",
        "\n",
        "# Product Codes (simple pattern)\n",
        "df[\"product_codes\"] = df[\"message\"].str.findall(r\"[A-Za-z]-\\d+-[A-Za-z]+\")"
      ],
      "metadata": {
        "id": "Bp5bIJ-qaw3g"
      },
      "execution_count": null,
      "outputs": []
    },
    {
      "cell_type": "markdown",
      "source": [
        "## Advanced pandas"
      ],
      "metadata": {
        "id": "lUzb6CI0n9wj"
      }
    },
    {
      "cell_type": "code",
      "source": [
        "import pandas as pd\n",
        "import numpy as np"
      ],
      "metadata": {
        "id": "AoLVXLONoffr"
      },
      "execution_count": null,
      "outputs": []
    },
    {
      "cell_type": "code",
      "source": [
        "# Setting up a DataFrame for examples\n",
        "data = {\n",
        "    'Region': ['North', 'North', 'South', 'South', 'East', 'East'],\n",
        "    'Product': ['A', 'B', 'A', 'B', 'A', 'B'],\n",
        "    'Year': [2021, 2021, 2022, 2022, 2021, 2022],\n",
        "    'Sales': [200, 150, 300, 400, 250, 350],\n",
        "    'Profit': [50, 30, 80, 100, 60, 90]\n",
        "}\n",
        "df = pd.DataFrame(data)"
      ],
      "metadata": {
        "id": "fc4AodFEoBAo"
      },
      "execution_count": null,
      "outputs": []
    },
    {
      "cell_type": "code",
      "source": [
        "#### Multi-Indexing\n",
        "# Multi-indexing allows hierarchical indexing, which is useful for working with multi-dimensional data.\n",
        "# This helps organize data with multiple levels of categorization for easier access and manipulation.\n",
        "\n",
        "multi_index_df = df.set_index(['Region', 'Product'])\n",
        "multi_index_df"
      ],
      "metadata": {
        "id": "MvBZuWX1oEwJ"
      },
      "execution_count": null,
      "outputs": []
    },
    {
      "cell_type": "code",
      "source": [
        "multi_index_df.loc[('North', 'A')]"
      ],
      "metadata": {
        "id": "sdiy2tQkoktd"
      },
      "execution_count": null,
      "outputs": []
    },
    {
      "cell_type": "code",
      "source": [
        "# Pivot Tables\n",
        "# Pivot tables provide a way to aggregate data and display it in a summary form.\n",
        "# They are particularly useful for analyzing and comparing data across multiple dimensions.\n",
        "\n",
        "pivot_table = df.pivot_table(index='Region', columns='Product', values='Sales', aggfunc='sum')\n",
        "pivot_table"
      ],
      "metadata": {
        "id": "g1SgMwEpormU"
      },
      "execution_count": null,
      "outputs": []
    },
    {
      "cell_type": "code",
      "source": [
        "# Custom aggregations enable tailored summary statistics for data analysis.\n",
        "# This is useful for deriving specific insights like total sales or average profit.\n",
        "\n",
        "custom_agg = df.groupby('Region').agg(\n",
        "    Total_Sales=('Sales', 'sum'),\n",
        "    Average_Profit=('Profit', 'mean')\n",
        ")\n",
        "custom_agg"
      ],
      "metadata": {
        "id": "UNjww3-ro49g"
      },
      "execution_count": null,
      "outputs": []
    },
    {
      "cell_type": "code",
      "source": [
        "#### Melt and Pivot\n",
        "# `melt` and `pivot` reshape data between wide and long formats.\n",
        "# These operations are useful for reformatting data to suit different types of analyses.\n",
        "melted_df = df.melt(id_vars=['Region', 'Product'], value_vars=['Sales', 'Profit'], var_name='Metric', value_name='Value')\n",
        "melted_df\n",
        "\n"
      ],
      "metadata": {
        "id": "UMoDEZmnpHK4"
      },
      "execution_count": null,
      "outputs": []
    },
    {
      "cell_type": "code",
      "source": [
        "# Pivoting data\n",
        "pivoted_df = melted_df.pivot(index=['Region', 'Product'], columns='Metric', values='Value').reset_index()\n",
        "pivoted_df"
      ],
      "metadata": {
        "id": "ZI4moNc0pm-w"
      },
      "execution_count": null,
      "outputs": []
    },
    {
      "cell_type": "code",
      "source": [
        "#### Separating Rows\n",
        "# Separating rows based on a delimiter in a column allows for handling data stored in a compact form.\n",
        "# This is useful for scenarios like processing multi-valued attributes.\n",
        "\n",
        "split_data = {\n",
        "    'ID': [1, 2, 3],\n",
        "    'Tags': ['tag1,tag2', 'tag3', 'tag4,tag5,tag6']\n",
        "}\n",
        "split_df = pd.DataFrame(split_data)\n",
        "\n",
        "split_df"
      ],
      "metadata": {
        "id": "nx4rPrI3pp2x"
      },
      "execution_count": null,
      "outputs": []
    },
    {
      "cell_type": "markdown",
      "source": [
        "### Tasks"
      ],
      "metadata": {
        "id": "Fcl4AM2Bqkdt"
      }
    },
    {
      "cell_type": "code",
      "source": [
        "##### Task 1: Calculate Total Profit for Each Year"
      ],
      "metadata": {
        "id": "vRFTag0ZqmE9"
      },
      "execution_count": null,
      "outputs": []
    },
    {
      "cell_type": "code",
      "source": [
        "##### Task 2: Find the Product with the Highest Sales in Each Region\n",
        "## This task shows how to identify the best-performing product in each region,\n",
        "##  which is a common need in sales and marketing analyses.\n",
        "## idxmax(): The idxmax function in pandas is used to find the index (or position) of the first\n",
        "# occurrence of the maximum value in a Series or DataFrame along a specified axis."
      ],
      "metadata": {
        "id": "Dq0SNc9WqoEJ"
      },
      "execution_count": null,
      "outputs": []
    },
    {
      "cell_type": "code",
      "source": [
        "##### Task 3: Create a New Column Showing Profit Margin (Profit as Percentage of Sales)\n",
        "## This task highlights deriving new metrics from existing columns,\n",
        "## which is essential for financial analysis and business intelligence.\n"
      ],
      "metadata": {
        "id": "vvqDMDNGrFvd"
      },
      "execution_count": null,
      "outputs": []
    },
    {
      "cell_type": "code",
      "source": [
        "# split_df['Tags'].str.split(','):\n",
        "# This operation splits the string in the Tags column at each comma (,) and converts\n",
        "# the resulting parts into a list.\n",
        "# Example: 'tag1,tag2' becomes ['tag1', 'tag2'].\n",
        "# .explode('Tags'):\n",
        "# The explode method takes each list in the Tags column and creates a separate\n",
        "# row for each element of the list.\n",
        "# Example: A row with ['tag1', 'tag2'] will be expanded into two rows, one with tag1 and another with tag2.\n",
        "split_df = split_df.assign(Tags=split_df['Tags'].str.split(',')).explode('Tags').reset_index(drop=True)\n",
        "split_df"
      ],
      "metadata": {
        "id": "PLNHHd3Vp42R"
      },
      "execution_count": null,
      "outputs": []
    },
    {
      "cell_type": "markdown",
      "source": [
        "### Solutions"
      ],
      "metadata": {
        "id": "E_sEodlCrP-K"
      }
    },
    {
      "cell_type": "code",
      "source": [
        "yearly_profit = df.groupby('Year')['Profit'].sum()\n",
        "yearly_profit"
      ],
      "metadata": {
        "id": "wxanBm9CrRkO"
      },
      "execution_count": null,
      "outputs": []
    },
    {
      "cell_type": "code",
      "source": [
        "highest_sales_product = df.loc[df.groupby('Region')['Sales'].idxmax()]\n",
        "highest_sales_product[['Region', 'Product', 'Sales']]"
      ],
      "metadata": {
        "id": "m1Uq7qg1rVBJ"
      },
      "execution_count": null,
      "outputs": []
    },
    {
      "cell_type": "code",
      "source": [
        "profit_margin_df = df.copy()\n",
        "profit_margin_df['Profit_Margin'] = (profit_margin_df['Profit'] / profit_margin_df['Sales']) * 100\n",
        "profit_margin_df"
      ],
      "metadata": {
        "id": "xNAyRVG3rhWK"
      },
      "execution_count": null,
      "outputs": []
    },
    {
      "cell_type": "markdown",
      "source": [
        "## Tests of linear dependency"
      ],
      "metadata": {
        "id": "w725zeW-sJO2"
      }
    },
    {
      "cell_type": "code",
      "source": [
        "from scipy.stats import chi2_contingency\n",
        "import statsmodels.api as sm"
      ],
      "metadata": {
        "id": "bHZxMJTJs1w9"
      },
      "execution_count": null,
      "outputs": []
    },
    {
      "cell_type": "code",
      "source": [
        "#### Correlation Matrix\n",
        "## A correlation matrix is useful for identifying relationships between numeric variables.\n",
        "## It helps understand how strongly variables are related.\n",
        "\n",
        "correlation_matrix = df[['Sales', 'Profit']].corr()\n",
        "correlation_matrix"
      ],
      "metadata": {
        "id": "RjNBy3w0sNSC"
      },
      "execution_count": null,
      "outputs": []
    },
    {
      "cell_type": "code",
      "source": [
        "#### Chi-Square Test\n",
        "## The chi-square test is used to assess the independence between categorical variables.\n",
        "\n",
        "chi2_data = pd.DataFrame({\n",
        "    'Feature_A': ['Yes', 'No', 'Yes', 'No', 'Yes'],\n",
        "    'Feature_B': ['High', 'High', 'Low', 'Low', 'High']\n",
        "})\n",
        "\n",
        "# Creating a contingency table\n",
        "contingency_table = pd.crosstab(chi2_data['Feature_A'], chi2_data['Feature_B'])\n",
        "\n",
        "contingency_table"
      ],
      "metadata": {
        "id": "BsrhBa9psaoP"
      },
      "execution_count": null,
      "outputs": []
    },
    {
      "cell_type": "code",
      "source": [
        "# Performing chi-square test\n",
        "chi2_stat, p_value, dof, expected = chi2_contingency(contingency_table)\n",
        "print(\"Chi-Square Statistic:\", chi2_stat)\n",
        "print(\"P-Value:\", p_value)"
      ],
      "metadata": {
        "id": "FR73eiq5suIo"
      },
      "execution_count": null,
      "outputs": []
    },
    {
      "cell_type": "code",
      "source": [
        "### Linear Regression\n",
        "### Linear regression models the relationship between a dependent variable and one or more independent variables.\n",
        "##### Using `statsmodels`\n",
        "### `statsmodels` provides detailed output for linear regression\n",
        "## analysis, including coefficients, p-values, and R-squared values.\n",
        "\n",
        "regression_df = pd.DataFrame({\n",
        "    'Sales': [200, 150, 300, 400, 250, 350],\n",
        "    'Profit': [50, 30, 80, 100, 60, 90]\n",
        "})\n",
        "\n",
        "regression_df"
      ],
      "metadata": {
        "id": "dAzQdz0OwsVY"
      },
      "execution_count": null,
      "outputs": []
    },
    {
      "cell_type": "code",
      "source": [
        "# Preparing data\n",
        "X = regression_df['Sales']\n",
        "y = regression_df['Profit']\n",
        "\n",
        "# Adding a constant to the independent variable\n",
        "X = sm.add_constant(X)\n",
        "\n",
        "# Fitting the linear regression model\n",
        "model = sm.OLS(y, X).fit()\n",
        "\n",
        "# Displaying the summary of the regression\n",
        "model.summary()"
      ],
      "metadata": {
        "id": "10Vqmixdw6dc"
      },
      "execution_count": null,
      "outputs": []
    }
  ]
}